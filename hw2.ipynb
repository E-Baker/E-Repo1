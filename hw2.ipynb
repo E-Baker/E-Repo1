{
 "cells": [
  {
   "cell_type": "code",
   "execution_count": 57,
   "metadata": {},
   "outputs": [
    {
     "name": "stdout",
     "output_type": "stream",
     "text": [
      "\n",
      "This is the sorting hat program! Please answer the following 3 questions with a simple yes or no \n",
      "inputted as Y or N. \n",
      "Based on your answers, you will be placed in either Gryffindor or Slytherine House. \n",
      "Good luck!\n",
      "    \n",
      "You have been placed into Slytherine house!\n"
     ]
    }
   ],
   "source": [
    "# Question 1: Sorting hat program \n",
    "print(\"\"\"\n",
    "This is the sorting hat program! Please answer the following 3 questions with a simple yes or no \n",
    "inputted as Y or N. \n",
    "Based on your answers, you will be placed in either Gryffindor or Slytherine House. \n",
    "Good luck!\n",
    "    \"\"\") # Welcome message to the wizard\n",
    "\n",
    "def sorting_hat(): # Define the function\n",
    "   \n",
    "    #Questions\n",
    "    question_1= input(\"Do you pefer lions over snakes? Y or N: \")\n",
    "    question_2= input(\"Are you more brave than cunning? Y or N: \")\n",
    "    question_3= input(\"Would others describe you as empathetic? Y or N: \")\n",
    "\n",
    "    # initilaize counters for Gyrffindor and Slytherine\n",
    "    Gryffindor=0\n",
    "    Slytherine=0\n",
    "\n",
    "    # Sort through questions by adding 1 for each house selected\n",
    "    if question_1==\"Y\":\n",
    "        Gryffindor +=1\n",
    "    elif question_1==\"N\":\n",
    "        Slytherine +=1\n",
    "    else:\n",
    "        print(\"Enter either Y or N\")\n",
    "\n",
    "    if question_2==\"Y\":\n",
    "        Gryffindor +=1\n",
    "    elif question_2==\"N\":\n",
    "        Slytherine += 1\n",
    "    else:\n",
    "        print(\"Enter either Y or N\")\n",
    "\n",
    "    if question_3==\"Y\":\n",
    "        Gryffindor += 1\n",
    "    elif question_3==\"N\":\n",
    "        Slytherine += 1\n",
    "    else:\n",
    "        print(\"Enter either Y or N\")\n",
    "\n",
    "    if Gryffindor>Slytherine: \n",
    "        house= \"Gryffindor\"\n",
    "    else: \n",
    "        house= \"Slytherine\"\n",
    "    \n",
    "    print(f\"You have been placed into {house} house!\")\n",
    "    return house\n",
    "house_chosen=sorting_hat() # Call the function and stores return value"
   ]
  },
  {
   "cell_type": "code",
   "execution_count": 35,
   "metadata": {},
   "outputs": [
    {
     "name": "stdout",
     "output_type": "stream",
     "text": [
      "The mean is 3.75\n",
      "The standard deviation is 2.384848003542364\n"
     ]
    }
   ],
   "source": [
    "# Question 2: Class mydata\n",
    "class mydata:\n",
    "    def __init__(self,data):\n",
    "        self.data=data\n",
    "    \n",
    "    def mean(self): \n",
    "        self.mean= sum(self.data)/len(self.data) #sum of values divided by number of values\n",
    "        return self.mean\n",
    "    \n",
    "    def std(self): \n",
    "        numerator=[(x-self.mean)**2 for x in self.data]\n",
    "        divide=sum(numerator)/len(self.data)\n",
    "        self.std=divide**0.5    \n",
    "        return self.std\n",
    "\n",
    "\n",
    "x=mydata([1,2,7,5])\n",
    "print(\"The mean is\",x.mean())\n",
    "print(\"The standard deviation is\",x.std())"
   ]
  },
  {
   "cell_type": "code",
   "execution_count": 1,
   "metadata": {},
   "outputs": [
    {
     "name": "stdout",
     "output_type": "stream",
     "text": [
      "This is the array lagged by 1 [nan  1.  6.  8.]\n",
      "This is the array lagged by 2 [nan nan  1.  6.]\n",
      "This is the array lagged by 2 using the lagGenerator [nan nan  1.  6.]\n"
     ]
    }
   ],
   "source": [
    "# Question 3: The lag function\n",
    "import numpy as np\n",
    "\n",
    "def lag(vector,n): #vector is input and n is the number of positions to lag\n",
    "    lag_vec=np.empty_like(vector,dtype=float) #array with same shape as input vector\n",
    "    lag_vec[:n]=np.nan #set the first n elements of lag_vec to nan\n",
    "    lag_vec[n:]=vector[:-n] # copies all but last n elements to lag_vec starting at n position\n",
    "\n",
    "    return lag_vec\n",
    "\n",
    "a=np.array([1,6,8,4])\n",
    "print(\"This is the array lagged by 1\",lag(a,1))\n",
    "print(\"This is the array lagged by 2\",lag(a,2))\n",
    "\n",
    "# Question 4 lagGenerator \n",
    "def lagGenerator(n): #Define the function\n",
    "    return lambda vector:lag(vector,n) #lambda takes vector and returns result of lag(vector,n)\n",
    "test_lagged_2=lagGenerator(2) # test lag function\n",
    "print(\"This is the array lagged by 2 using the lagGenerator\",test_lagged_2(a))"
   ]
  },
  {
   "cell_type": "code",
   "execution_count": null,
   "metadata": {},
   "outputs": [],
   "source": []
  }
 ],
 "metadata": {
  "kernelspec": {
   "display_name": ".venv",
   "language": "python",
   "name": "python3"
  },
  "language_info": {
   "codemirror_mode": {
    "name": "ipython",
    "version": 3
   },
   "file_extension": ".py",
   "mimetype": "text/x-python",
   "name": "python",
   "nbconvert_exporter": "python",
   "pygments_lexer": "ipython3",
   "version": "3.12.5"
  }
 },
 "nbformat": 4,
 "nbformat_minor": 2
}
